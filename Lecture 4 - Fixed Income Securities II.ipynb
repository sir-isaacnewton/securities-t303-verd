{
 "cells": [
  {
   "cell_type": "markdown",
   "id": "432f5132",
   "metadata": {
    "slideshow": {
     "slide_type": "slide"
    }
   },
   "source": [
    "# Chapter 3 - Fixed Income Securities\n",
    "## Duration\n",
    "- Long bonds have more interest rate sensitivity than short bonds: the discount factors that apply to the cash flows span over longer time horizons, so their impact is larger.\n",
    "- Maturity is a simplistic measure of interest-rate sensitivity. A more complete picture is provided by the *duration*."
   ]
  },
  {
   "cell_type": "markdown",
   "id": "e04ace6e",
   "metadata": {
    "slideshow": {
     "slide_type": "slide"
    }
   },
   "source": [
    "**Duration:** Duration is a weighted average of all the cash flow (payment) times, weighted by their present value. The duration of a cash flow stream with cash flows occuring at $t_0, t_1,...,t_n$ is given by\n",
    "$$D = \\frac{\\text{PV}(t_0)t_0 + \\text{PV}(t_1)t_1 + ... + \\text{PV}(t_n)t_n}{\\text{PV}}, $$\n",
    "where $\\text{PV}(t_i)$ is the present value of the cash flow occuring at $t_i$ and $\\text{PV}$ is the total present value of the cash flow stream.\n",
    "\n",
    "- When all the cash flows are non-negative, $t_0\\leq D \\leq t_n$.\n",
    "- For a zero-coupon bond (ZCB), the duration is equal to the maturity.\n",
    "- For a coupon-bearing bond (CBB), the duration is strictly less than the maturity date."
   ]
  },
  {
   "cell_type": "markdown",
   "id": "93942a30",
   "metadata": {
    "slideshow": {
     "slide_type": "slide"
    }
   },
   "source": [
    "### Macaulay Duration\n",
    "- As highlighted previously, the trick with a present value calculation is deciding what interest rate to use.\n",
    "- The previous general definition didn't specify. If we use the bond's yield, then that is known as the Macaulay duration.\n",
    "\n",
    "**Macaulay Duration:** Suppose an instrument makes payments $m$ times per year, with the payment in period $k$ being $c_k$ and there are $n$ periods remaining. The Macaulay duration, $D$, is defined as\n",
    "$$ D = \\frac{\\sum_{k=0}^{n}\\frac{k}{m}\\frac{c_k}{\\left(1 + \\frac{\\lambda}{m} \\right)^k}}{\\text{PV}} $$\n",
    "where $\\lambda$ is the yield to maturity and\n",
    "$$ \\text{PV} = \\sum_{k=0}^{n} \\frac{c_k}{\\left(1 + \\frac{\\lambda}{m} \\right)^k}. $$"
   ]
  },
  {
   "cell_type": "markdown",
   "id": "8871a66b",
   "metadata": {
    "slideshow": {
     "slide_type": "slide"
    }
   },
   "source": [
    "**Example 3.6 (A Short Bond):**\n",
    "- Consider a 7% bond with 3 years to maturity, trading at 8% yield, par value of 100 USD. Compute the duration. Excel is perfect for this!\n",
    "\n",
    "![alt text](./Figures/Fig_L4_Ex36.jpg \"Title\")"
   ]
  },
  {
   "cell_type": "markdown",
   "id": "375c63aa",
   "metadata": {
    "slideshow": {
     "slide_type": "slide"
    }
   },
   "source": [
    "### Explicit Formula\n",
    "- An explicit formula exists for computing the Macaulay duration when the coupon payments are identical.\n",
    "- Note that it requires the *per period* coupon rate and yield.\n",
    "- Included in Excel spreadsheet.\n",
    "\n",
    "### Qualitative Properties of Duration\n",
    "- Durations tend to be shorter than you think.\n",
    "    - PV decreases *geometrically* with time until payment.\n",
    "- Have a finite limit as maturity goes to infinity."
   ]
  },
  {
   "cell_type": "markdown",
   "id": "5da7392a",
   "metadata": {
    "slideshow": {
     "slide_type": "slide"
    }
   },
   "source": [
    "### Duration and Sensitivity\n",
    "**Price Sensitivity**: The derivative of the price, $P$, with respect to the yield, $\\lambda$, of a fixed income security is\n",
    "$$ \\frac{\\text{d}P}{\\text{d}\\lambda} = - D_MP,$$\n",
    "where $D_M$ is the *modified duration*,\n",
    "$$ D_m = \\frac{D}{1 + \\frac{\\lambda}{m}}.$$\n",
    "- This allows us to measure the approximate effect of changes in yield:\n",
    "    - $ \\Delta P \\approx -D_M P \\Delta \\lambda $"
   ]
  },
  {
   "cell_type": "code",
   "execution_count": 3,
   "id": "54b8fb18",
   "metadata": {
    "slideshow": {
     "slide_type": "skip"
    }
   },
   "outputs": [
    {
     "name": "stdout",
     "output_type": "stream",
     "text": [
      "Macaulay Duration at 10% Yield: 9.94\n",
      "Modified Duration at 10% Yield: 9.46\n",
      "Approx. Price at 11% Yield: 90.54\n",
      "True Price at 11% Yield: 91.28\n"
     ]
    }
   ],
   "source": [
    "# Example 3.8 (A 10% Bond)\n",
    "import numpy as np\n",
    "import matplotlib.pyplot as plt\n",
    "plt.rcParams['figure.dpi'] = 150\n",
    "\n",
    "\n",
    "def bond_price(lam, F, C, m, n):\n",
    "    return F / (1 + lam / m) ** n + C / lam * (1 - 1 / (1 + lam / m) ** n)\n",
    "\n",
    "\n",
    "def macaulay_duration(c, y, m, n):\n",
    "    return (1 + y)/(m * y) - (1 + y + n * (c - y))/(m * c * ((1 + y) ** n - 1) + m * y)\n",
    "\n",
    "\n",
    "yields = np.linspace(0.005, 0.2, int((0.2 - 0.005) / 0.005 + 1))\n",
    "face_value = 100\n",
    "maturity = 30\n",
    "coupon_period = 2\n",
    "coupon_rate = 0.1\n",
    "annual_coupon = face_value * coupon_rate\n",
    "num_periods = maturity * coupon_period\n",
    "prices_30_years = bond_price(yields, face_value, annual_coupon, coupon_period, num_periods)\n",
    "\n",
    "par_yield = 0.1\n",
    "duration = macaulay_duration(coupon_rate / coupon_period, par_yield / coupon_period, coupon_period, num_periods)\n",
    "modified_duration = duration / (1 + par_yield / coupon_period)\n",
    "approx_price_at_11 = face_value - modified_duration * face_value * 0.01\n",
    "true_price_at_11 = bond_price(0.11, face_value, annual_coupon, coupon_period, num_periods)\n",
    "\n",
    "print(f\"Macaulay Duration at 10% Yield: {duration:.2f}\")\n",
    "print(f\"Modified Duration at 10% Yield: {modified_duration:.2f}\")\n",
    "print(f\"Approx. Price at 11% Yield: {approx_price_at_11:.2f}\")\n",
    "print(f\"True Price at 11% Yield: {true_price_at_11:.2f}\")\n",
    "\n",
    "line_gradient = - modified_duration * face_value\n",
    "line_intercept = face_value - line_gradient * par_yield\n",
    "\n",
    "final_yields = [0] + list(yields)\n",
    "# plt.figure(1)\n",
    "fig, axes = plt.subplots(1, 2)\n",
    "ax1 = axes[0]\n",
    "ax2 = axes[1]\n",
    "\n",
    "fig.suptitle(\"Price-yield and Slope\")\n",
    "for ax in axes:\n",
    "    ax.plot(final_yields, [face_value + face_value * coupon_rate / 2 * num_periods] + prices_30_years.tolist(), label='30 years')\n",
    "    ax.plot(final_yields, line_gradient * np.array(final_yields) + line_intercept, label='Tangent at 10% Yield')\n",
    "    ax.plot(0.11, approx_price_at_11, 'yx')\n",
    "    ax.plot(0.11, true_price_at_11, 'bo')\n",
    "    ax.set_xlabel(\"YTM\")\n",
    "    \n",
    "ax1.set_ylabel(\"Price\")\n",
    "ax1.set_xlim(0, 0.2)\n",
    "ax1.set_ylim(0, 500)\n",
    "\n",
    "ax2.set_xlim(0.104, 0.114)\n",
    "ax2.set_ylim(87, 95)\n",
    "plt.savefig('Figures/Fig_L4_PriceYieldSlope.png')\n",
    "plt.close()"
   ]
  },
  {
   "cell_type": "markdown",
   "id": "6410d655",
   "metadata": {
    "slideshow": {
     "slide_type": "slide"
    }
   },
   "source": [
    "![alt text](./Figures/Fig_L4_PriceYieldSlope.png \"Title\")"
   ]
  },
  {
   "cell_type": "markdown",
   "id": "9ea46bd6",
   "metadata": {
    "slideshow": {
     "slide_type": "slide"
    }
   },
   "source": [
    "### Duration of a Portfolio\n",
    "**Duration of Portfolio (With Common Yield):** Suppose there are $m$ fixed income securities with prices and durations of $P_i$ and $D_i$, respectively, for $i=1,2,...,m$, all computed at a common yield. The portfolio consisting of the aggregate of these securities has price $P$ and duration $D$, given by\n",
    "$$ P = P_1 + P_2 + ... + P_m $$\n",
    "and\n",
    "$$ D = w_1D_1 + w_2D_2 + ... + w_mD_m $$\n",
    "where $w_i = \\frac{P_i}{P}$, for $i=1,2,...,m$.\n",
    "- The requirement for a **common yield** is key, and can be a useful approximation for bond portfolios."
   ]
  },
  {
   "cell_type": "markdown",
   "id": "1a755f23",
   "metadata": {
    "slideshow": {
     "slide_type": "slide"
    }
   },
   "source": [
    "## Immunization\n",
    "- Imagine you have three future obligations:\n",
    "    - Pay 100 USD one year from now.\n",
    "    - Pay 500 USD two years from now.\n",
    "    - Pay 300 USD three years from now.\n",
    "- What you want to do is invest *today* in such a way as to ensure that you can meet these obligations.\n",
    "- A simple solution:\n",
    "    - Buy 1 x 100 USD ZCB with one-year maturity.\n",
    "    - Buy 5 x 100 USD ZCB with two-year maturity.\n",
    "    - Buy 3 x 100 USD ZCB with three-year maturity.\n",
    "- Done and dusted! But what if those instruments aren't available?"
   ]
  },
  {
   "cell_type": "markdown",
   "id": "b8ec73b7",
   "metadata": {
    "slideshow": {
     "slide_type": "slide"
    }
   },
   "source": [
    "- Bit trickier... but what you can do is construct a portfolio (buy a set of instruments) such that your constructed portfolio has the same PV (with opposite sign) as your stream of obligations.\n",
    "- Then, as you move through time, if the PV or your portfolio remains matched to the PV of your obligations, you can sell parts of the portfolio at appropriate times to meet your obligations.\n",
    "- The PVs will remain matched **IF** the yields don't change!\n",
    "- But how can you protect yourself from a change in yield?"
   ]
  },
  {
   "cell_type": "markdown",
   "id": "17b6b59a",
   "metadata": {
    "slideshow": {
     "slide_type": "slide"
    }
   },
   "source": [
    "- If you match the duration of your portfolio to the duration of your stream of obligations, then they will have same yield sensitivity.\n",
    "- This means, when yields change, the PV of your portfolio will change by the same amount as the PV of your obligations. This is what you want! Because then you'll still be *matched*.\n",
    "- Let's look at an example."
   ]
  },
  {
   "cell_type": "markdown",
   "id": "c551254d",
   "metadata": {
    "slideshow": {
     "slide_type": "slide"
    }
   },
   "source": [
    "**Example 3.10 (The X Corporation):**\n",
    "- We have a 1 000 000 USD obligation in 10 years.\n",
    "- We have to invest in instruments to help us best meet that obligation, i.e., we have to construct a matching or *hedging* portfolio.\n",
    "- We can choose from three corporate bonds. How much of each bond should we buy?\n",
    "    - Well, let's match the PV and the duration. (See the attached spreadsheet.)\n",
    "    "
   ]
  }
 ],
 "metadata": {
  "celltoolbar": "Slideshow",
  "kernelspec": {
   "display_name": "Python 3",
   "language": "python",
   "name": "python3"
  },
  "language_info": {
   "codemirror_mode": {
    "name": "ipython",
    "version": 3
   },
   "file_extension": ".py",
   "mimetype": "text/x-python",
   "name": "python",
   "nbconvert_exporter": "python",
   "pygments_lexer": "ipython3",
   "version": "3.9.6"
  }
 },
 "nbformat": 4,
 "nbformat_minor": 5
}
