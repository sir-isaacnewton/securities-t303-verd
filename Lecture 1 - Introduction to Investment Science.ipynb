{
 "cells": [
  {
   "cell_type": "markdown",
   "metadata": {
    "id": "IjaTzq9goFUs",
    "slideshow": {
     "slide_type": "slide"
    }
   },
   "source": [
    "# Chapter 1 - Introduction\n",
    "## Investment Science"
   ]
  },
  {
   "cell_type": "code",
   "execution_count": 5,
   "metadata": {
    "slideshow": {
     "slide_type": "skip"
    }
   },
   "outputs": [],
   "source": [
    "import numpy as np\n",
    "import matplotlib.pyplot as plt\n",
    "# plt.rcParams['figure.figsize'] = [10, 10]\n",
    "plt.rcParams['figure.dpi'] = 150\n",
    "\n",
    "time = [0, 1, 2, 3, 4, 5]\n",
    "cash_flow = [100, -20, -120, 50, 200, -80]\n",
    "\n",
    "plt.figure(1)\n",
    "plt.stem(time, cash_flow)\n",
    "plt.title(\"A Simple Cash-flow Stream\")\n",
    "plt.xlabel(\"Time\")\n",
    "plt.ylabel(\"Cash Value ($)\")\n",
    "plt.savefig('Figures/Lecture1_CashflowStream.png')\n",
    "plt.close()"
   ]
  },
  {
   "cell_type": "markdown",
   "metadata": {
    "slideshow": {
     "slide_type": "slide"
    }
   },
   "source": [
    "![alt text](./Figures/Lecture1_CashflowStream.png \"Title\")"
   ]
  },
  {
   "cell_type": "markdown",
   "metadata": {
    "slideshow": {
     "slide_type": "slide"
    }
   },
   "source": [
    "- All investments are cash flow streams:\n",
    "  - Consider things in terms of their *cash value*.\n",
    "  - Cash is *fungible* (mutually interchangeable). This allows for direct comparison: **The Comparison Principle**.\n",
    "  - This concept changed the world: barter economy to a money economy.\n",
    "- What are the dangers?\n",
    "  - Diablo 3: The real money auction house debacle (GDC 2019 - Cursed Problems in Game Design).\n",
    "  - When everything is fungible, nothing is unique.\n",
    "  - Obviously, not everything should have a cash value.\n"
   ]
  },
  {
   "cell_type": "markdown",
   "metadata": {
    "slideshow": {
     "slide_type": "slide"
    }
   },
   "source": [
    "- Therefore, investment science is using *scientific tools* (mathematical analysis) to customize cash flow streams.\n",
    "  - Many ways to summarize / describe a cash flow stream: NPV, IRR, duration...\n",
    "- Investment science generally occurs within the confines of a market, which provides a structure to the science. Adds the applied part to the applied mathematics."
   ]
  },
  {
   "cell_type": "markdown",
   "metadata": {
    "id": "V-VnZW5zqF4L",
    "slideshow": {
     "slide_type": "slide"
    }
   },
   "source": [
    "## Basic Market Properties\n",
    "- **Arbitrage**\n",
    "  - **Example**: A simple borrow and lend.\n",
    "  - Assuming \"no arbitrage\" provides a lot of structure to the market and prevents degenerate solutions.\n",
    "- **Risk Aversion**\n",
    "  - **Example**: Coin-flip vs certain cash.\n",
    "  - People are risk averse. They need to be rewarded to take on risk."
   ]
  },
  {
   "cell_type": "markdown",
   "metadata": {
    "id": "p_1ZX34wqouq",
    "slideshow": {
     "slide_type": "slide"
    }
   },
   "source": [
    "## Problems We Are Going to Solve\n",
    "- The Pricing Problem:\n",
    "  - What is the appropriate price of an investment (or project or product), given the rest of the market?\n",
    "- The Hedging Problem:\n",
    "  - How can we protect ourselves from the risks of a cash flow stream?\n",
    "- The Portfolio Problem:\n",
    "  - If we have a bunch of cash, how should we invest among the products in the market?\n",
    "- Combination and Consumption Problems."
   ]
  },
  {
   "cell_type": "markdown",
   "metadata": {
    "id": "5sL_UC_LrWoj",
    "slideshow": {
     "slide_type": "slide"
    }
   },
   "source": [
    "# Chapter 2 - The Basic Theory of Interest\n",
    "“Compound interest is the eighth wonder of the world. He who understands it, earns it … he who doesn't … pays it.” - Albert Einsten\n",
    "\n",
    "## Principal and Interest\n",
    "**Simple Interest:**\n",
    "$$ V = A( 1 + rn) $$\n",
    "- $V$ is the final value\n",
    "- $A$ is the amount invested\n",
    "- $r$ is the annual (yearly) simple interest rate\n",
    "- $n$ is the number of years"
   ]
  },
  {
   "cell_type": "code",
   "execution_count": 6,
   "metadata": {
    "slideshow": {
     "slide_type": "skip"
    }
   },
   "outputs": [],
   "source": [
    "# Example 2: Simple Interest.\n",
    "\n",
    "A = 100\n",
    "r = 0.1\n",
    "T = 5\n",
    "n = np.linspace(0, T, T + 1)\n",
    "V = A*(1 + r*n)\n",
    "\n",
    "plt.figure(2)\n",
    "plt.step(n, V, '-bo', where='post', label='Simple')\n",
    "plt.title(\"Simple Interest, 10% p.a.\")\n",
    "plt.xlabel(\"Time (years)\")\n",
    "plt.ylabel(\"Investment Value\")\n",
    "legend = plt.legend()\n",
    "plt.savefig('Figures/Lecture1_SimpleInterest.png')\n",
    "plt.close()"
   ]
  },
  {
   "cell_type": "markdown",
   "metadata": {
    "slideshow": {
     "slide_type": "slide"
    }
   },
   "source": [
    "![alt text](./Figures/Lecture1_SimpleInterest.png \"Title\")"
   ]
  },
  {
   "cell_type": "markdown",
   "metadata": {
    "slideshow": {
     "slide_type": "slide"
    }
   },
   "source": [
    "**Compound Interest:**\n",
    "$$ V = A\\left(1 + \\frac{r}{m}\\right)^k $$\n",
    "- $V$ is the final value\n",
    "- $A$ is the initial amount invested\n",
    "- $r$ is the annual (yearly) interest rate\n",
    "- $m$ is the compounding period, i.e., \"How often does the interest compound?\"\n",
    "- $k$ is the number of compounding periods, i.e., \"How many times has the interest compounded?\"\n",
    "\n",
    "Compound interest gives rise to *geometric growth* because of its power form (the exponent)."
   ]
  },
  {
   "cell_type": "code",
   "execution_count": 7,
   "metadata": {
    "slideshow": {
     "slide_type": "skip"
    }
   },
   "outputs": [],
   "source": [
    "A = 100\n",
    "r = 0.1\n",
    "T = 5\n",
    "n = np.linspace(0, T, T + 1)\n",
    "V = A*(1 + r*n)\n",
    "\n",
    "m = 2\n",
    "t = np.linspace(0, T, T*m + 1)\n",
    "k = np.arange(0, T*m + 1)\n",
    "V_semiAnnual = A * (1 + r / m) ** k\n",
    "\n",
    "plt.figure(3)\n",
    "plt.step(n, V, '-bo', where='post', label='Simple')\n",
    "plt.step(t, V_semiAnnual, '-ko', where='post', label='Compound')\n",
    "plt.title(\"Simple vs Semi-annual Compounding, 10% p.a.\")\n",
    "plt.xlabel(\"Time (years)\")\n",
    "plt.ylabel(\"Investment Value\")\n",
    "legend = plt.legend()\n",
    "plt.savefig('Figures/Lecture1_CompoundInterest.png')\n",
    "plt.close()"
   ]
  },
  {
   "cell_type": "markdown",
   "metadata": {
    "slideshow": {
     "slide_type": "slide"
    }
   },
   "source": [
    "![alt text](./Figures/Lecture1_CompoundInterest.png \"Title\")"
   ]
  },
  {
   "cell_type": "markdown",
   "metadata": {
    "slideshow": {
     "slide_type": "slide"
    }
   },
   "source": [
    "**Nominal vs Effective Rate**\n",
    "- Although the compound interest is quoted as an annual rate, e.g., \"8% per year compounded monthly\", this is not the actual growth of the initial amount, $A$, over the course of a year.\n",
    "- This quoted rate, is known as the *nominal rate*. Nominal means \"in name only\", which means \"not really\". This is \"not really\" the rate.\n",
    "- The rate that $A$ actually grows over a year, denoted $r'$, is known as the *effective rate*. \n",
    "- Thus, $$ r' = \\left(1 + \\frac{r}{m}\\right)^m. $$"
   ]
  },
  {
   "cell_type": "markdown",
   "metadata": {
    "slideshow": {
     "slide_type": "slide"
    }
   },
   "source": [
    "**Continuous Compounding:**\n",
    "$$ V = A e^{rt} $$\n",
    "- $V$ is the final value\n",
    "- $A$ is the initial amount invested\n",
    "- $r$ is the annual (yearly) interest rate\n",
    "- $e$ is the natural number or Euler's number, the base of the natural logarithm\n",
    "- $t$ is the time invested (in years)\n",
    "\n",
    "Continuous compounding gives rise to *exponential growth*.\n"
   ]
  },
  {
   "cell_type": "code",
   "execution_count": 8,
   "metadata": {
    "slideshow": {
     "slide_type": "skip"
    }
   },
   "outputs": [],
   "source": [
    "A = 100\n",
    "r = 0.1\n",
    "T = 5\n",
    "n = np.linspace(0, T, T + 1)\n",
    "V = A*(1 + r*n)\n",
    "\n",
    "m = 2\n",
    "t = np.linspace(0, T, T*m + 1)\n",
    "k = np.arange(0, T*m + 1)\n",
    "V_semiAnnual = A * (1 + r / m) ** k\n",
    "\n",
    "numSteps = 100\n",
    "t_continuous = np.linspace(0, T, numSteps)\n",
    "V_continuous = A * np.exp(r * t_continuous)\n",
    "\n",
    "plt.figure(4)\n",
    "plt.step(n, V, '-bo', where='post', label='Simple')\n",
    "plt.step(t, V_semiAnnual, '-ko', where='post', label='Compound')\n",
    "plt.plot(t_continuous, V_continuous, '-r', label='Continuous')\n",
    "plt.title(\"Simple vs Semi-annual vs Continuous, 10% p.a.\")\n",
    "plt.xlabel(\"Time (years)\")\n",
    "plt.ylabel(\"Investment Value\")\n",
    "plt.legend()\n",
    "plt.savefig('Figures/Lecture1_ContinuousInterest.png')\n",
    "plt.close()"
   ]
  },
  {
   "cell_type": "markdown",
   "metadata": {
    "slideshow": {
     "slide_type": "slide"
    }
   },
   "source": [
    "![alt text](./Figures/Lecture1_ContinuousInterest.png \"Title\")"
   ]
  },
  {
   "cell_type": "markdown",
   "metadata": {
    "slideshow": {
     "slide_type": "slide"
    }
   },
   "source": [
    "### Debt and Money Markets\n",
    "- Debt works the same way as investments, although usually different rates apply.\n",
    "- Different rates apply to different circumstances and it can be very challenging to figure out which interest rate to use. We'll return to this problem in the future."
   ]
  },
  {
   "cell_type": "markdown",
   "metadata": {
    "slideshow": {
     "slide_type": "slide"
    }
   },
   "source": [
    "## Present Value\n",
    "- The value of a cash amount can be projected forward or backwards in time by using the appropriate interest rate.\n",
    "- Bringing a value backwards in time is known as *discounting*.\n",
    "- **Example:**\n",
    "    - I owe Karl $\\$100$ exactly one year from now. The prevailing simple interest rate is $r$. How much money do I need today to meet this obligation? \n",
    "    - $x(1 + r) = 100$\n",
    "    - $x = 100\\frac{1}{1 + r}$\n",
    "- $d := \\frac{1}{1 + r}$ is the *discount factor* (corresponding to the simple rate, $r$) that I use to obtain the *present value* of a cash flow 1 year from now.\n",
    "- There are discount factors corresponding to each interest rate and compounding convention."
   ]
  },
  {
   "cell_type": "markdown",
   "metadata": {
    "slideshow": {
     "slide_type": "slide"
    }
   },
   "source": [
    "## Present and Future Values of Streams\n",
    "### The Ideal Bank\n",
    "- Has the same interest rate for deposits and loans, which applies equally to all amounts.\n",
    "- No transaction fees or services costs.\n",
    "- The *constant ideal bank* has a single, constant interest rate."
   ]
  },
  {
   "cell_type": "markdown",
   "metadata": {
    "slideshow": {
     "slide_type": "slide"
    }
   },
   "source": [
    "### Future Value\n",
    "**Future Value of a Cash Flow Stream:** Consider a nominal annual interest rate, $r$, compounding at $m$ periods per year. Given an equally-spaced cash flow stream $(x_0, x_1, ..., x_n)$, which each cash flow occuring at the start of a period, the future value of this cash flow stream at time $n$ (the start of period $n$) is:\n",
    "$$ \\text{FV} = x_0\\left(1 + \\frac{r}{m}\\right)^n + x_1\\left(1 + \\frac{r}{m}\\right)^{n-1} + ... + x_n. $$\n"
   ]
  },
  {
   "cell_type": "markdown",
   "metadata": {
    "slideshow": {
     "slide_type": "slide"
    }
   },
   "source": [
    "### Present Value\n",
    "**Present Value of a Cash Flow Stream:** Consider a nominal annual interest rate, $r$, compounding at $m$ periods per year. Given an equally-spaced cash flow stream $(x_0, x_1, ..., x_n)$, which each cash flow occuring at the start of a period, the present value of this cash flow stream at time $0$ is:\n",
    "$$ \\text{PV} = x_0 + x_1 \\frac{1}{1 + \\frac{r}{m}} + x_2 \\frac{1}{\\left(1 + \\frac{r}{m}\\right)^2}+...+ x_n \\frac{1}{\\left(1 + \\frac{r}{m}\\right)^n}.$$"
   ]
  },
  {
   "cell_type": "markdown",
   "metadata": {
    "slideshow": {
     "slide_type": "slide"
    }
   },
   "source": [
    "### Present Value and an Ideal Bank\n",
    "- **Key Idea**: An ideal bank can always transform one cash flow stream into another, iff they have the same present value. "
   ]
  }
 ],
 "metadata": {
  "celltoolbar": "Slideshow",
  "colab": {
   "authorship_tag": "ABX9TyO9nXDqRBOrLOHn5aPLKTSB",
   "collapsed_sections": [],
   "name": "Lecture 1 - Introduction to Investment Science.ipynb",
   "provenance": []
  },
  "kernelspec": {
   "display_name": "Python 3",
   "language": "python",
   "name": "python3"
  },
  "language_info": {
   "codemirror_mode": {
    "name": "ipython",
    "version": 3
   },
   "file_extension": ".py",
   "mimetype": "text/x-python",
   "name": "python",
   "nbconvert_exporter": "python",
   "pygments_lexer": "ipython3",
   "version": "3.9.6"
  },
  "rise": {
   "start_slideshow_at": "beginning"
  }
 },
 "nbformat": 4,
 "nbformat_minor": 1
}
