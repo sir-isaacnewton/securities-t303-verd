{
 "cells": [
  {
   "cell_type": "markdown",
   "id": "645bb0fc",
   "metadata": {
    "slideshow": {
     "slide_type": "slide"
    }
   },
   "source": [
    "# Securities / Verðbréf T303-VERD\n",
    "\n",
    "- **What We're Going to Do**\n",
    "- **How We're Going to Do It**\n",
    "- **How We'll Check That We've Done It**\n",
    "- **How You'll Succeed At It**\n"
   ]
  },
  {
   "cell_type": "markdown",
   "id": "87382e2c",
   "metadata": {
    "slideshow": {
     "slide_type": "slide"
    }
   },
   "source": [
    "<img src=\"./Figures/Fig_L0_InvestmentScience.jpg\" width=20% style=\"margin-left:auto; margin-right:auto\">\n",
    "\n",
    "### What We're Going to Do\n",
    "- Goal is to cover the first 10 chapters of \"Investment Science\" by David Luenberger.\n",
    "    - The textbook is pre-crisis, but excellent."
   ]
  },
  {
   "cell_type": "markdown",
   "id": "f665e2ec",
   "metadata": {
    "slideshow": {
     "slide_type": "slide"
    }
   },
   "source": [
    "## How We're Going to Do It\n",
    "- Two (double) lectures per week on Monday and Wednesday, with a practical (problem-solving) tutorial on Wednesday afternoons.\n",
    "    - You'll need a computer for the problems.\n",
    "- We're going to try to stick to my syllabus: 2/3 lectures per chapter.\n"
   ]
  },
  {
   "cell_type": "markdown",
   "id": "335cc614",
   "metadata": {
    "slideshow": {
     "slide_type": "slide"
    }
   },
   "source": [
    "\n",
    "## How We'll Check That We've Done It\n",
    "\n",
    "| Component   | Contribution |\n",
    "| ----------- | ----------- |\n",
    "| Exam 1     | 15 % |\n",
    "| Exam 2     | 15 % |\n",
    "| Assignment | 20 % |\n",
    "| Final Exam | 50 % |\n",
    "\n",
    "\n",
    "- Two class exams and one final exam.\n",
    "    - Open-book and online.\n",
    "    - Based on the exercises in the textbook (with variations).\n",
    "- One group (3 - 4 people) assignment.\n",
    "    - Written report and Excel spreadsheet.\n",
    "    - You'll provide feedback on the members of your group."
   ]
  },
  {
   "cell_type": "markdown",
   "id": "4aecfc50",
   "metadata": {
    "slideshow": {
     "slide_type": "slide"
    }
   },
   "source": [
    "## How You'll Succeed At It\n",
    "- You'll read the chapters before the lecture.\n",
    "- You'll attend the lectures and the tutorials.\n",
    "- You'll complete the exercises in the book.\n",
    "- You'll complete the exercises in the book.\n",
    "\n",
    "### (Applied) Mathematics is not a spectator sport.\n",
    "- You'll need to learn some theory and then you'll need to *apply it*. Financial engineering is a skill, one that must be practiced.\n",
    "- Like riding a bicycle."
   ]
  }
 ],
 "metadata": {
  "celltoolbar": "Slideshow",
  "kernelspec": {
   "display_name": "Python 3",
   "language": "python",
   "name": "python3"
  },
  "language_info": {
   "codemirror_mode": {
    "name": "ipython",
    "version": 3
   },
   "file_extension": ".py",
   "mimetype": "text/x-python",
   "name": "python",
   "nbconvert_exporter": "python",
   "pygments_lexer": "ipython3",
   "version": "3.9.6"
  }
 },
 "nbformat": 4,
 "nbformat_minor": 5
}
