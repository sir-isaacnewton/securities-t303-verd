{
 "cells": [
  {
   "cell_type": "markdown",
   "id": "dcfd196d",
   "metadata": {
    "slideshow": {
     "slide_type": "slide"
    }
   },
   "source": [
    "# Tutorial 1 - Exercises from Chapter 2\n",
    "\n",
    "Please complete:\n",
    "- Exercise 2.3 (Effective Rates)\n",
    "- Exercise 2.5 (A Prize)\n",
    "- Exercise 6 (Sunk Costs)\n",
    "    - Repeat this question with an interest rate of 3% per period. Do the results change?\n",
    "- Exercise 9 (An Appraisal)\n",
    "\n",
    "A note on **Geometric Series**:\n",
    "$$\\sum_{k=0}^{\\infty} ax^k = \\frac{a}{1 - x} \\text{ iff } |x| < 1.  $$"
   ]
  }
 ],
 "metadata": {
  "celltoolbar": "Slideshow",
  "kernelspec": {
   "display_name": "Python 3",
   "language": "python",
   "name": "python3"
  },
  "language_info": {
   "codemirror_mode": {
    "name": "ipython",
    "version": 3
   },
   "file_extension": ".py",
   "mimetype": "text/x-python",
   "name": "python",
   "nbconvert_exporter": "python",
   "pygments_lexer": "ipython3",
   "version": "3.9.6"
  }
 },
 "nbformat": 4,
 "nbformat_minor": 5
}
