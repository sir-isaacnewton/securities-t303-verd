{
 "cells": [
  {
   "cell_type": "markdown",
   "id": "432f5132",
   "metadata": {
    "slideshow": {
     "slide_type": "slide"
    }
   },
   "source": [
    "# Chapter 3 - Fixed Income Securities\n",
    "## Duration\n",
    "- Long bonds have more interest rate sensitivity than short bonds: the discount factors that apply to the cash flows span over longer time horizons, so their impact is larger.\n",
    "- Maturity is a simplistic measure of interest-rate sensitivity. A more complete picture is provided by the *duration*."
   ]
  },
  {
   "cell_type": "markdown",
   "id": "e04ace6e",
   "metadata": {
    "slideshow": {
     "slide_type": "slide"
    }
   },
   "source": [
    "**Duration:** Duration is a weighted average of all the cash flow (payment) times, weighted by their present value. The duration of a cash flow stream with cash flows occuring at $t_0, t_1,...,t_n$ is given by\n",
    "$$D = \\frac{\\text{PV}(t_0)t_0 + \\text{PV}(t_1)t_1 + ... + \\text{PV}(t_n)t_n}{\\text{PV}}, $$\n",
    "where $\\text{PV}(t_i)$ is the present value of the cash flow occuring at $t_i$ and $\\text{PV}$ is the total present value of the cash flow stream.\n",
    "\n",
    "- When all the cash flows are non-negative, $t_0\\leq D \\leq t_n$.\n",
    "- For a zero-coupon bond (ZCB), the duration is equal to the maturity.\n",
    "- For a coupon-bearing bond (CBB), the duration is strictly less than the maturity date."
   ]
  },
  {
   "cell_type": "markdown",
   "id": "93942a30",
   "metadata": {
    "slideshow": {
     "slide_type": "slide"
    }
   },
   "source": [
    "### Macaulay Duration\n",
    "- As highlighted previously, the trick with a present value calculation is deciding what interest rate to use.\n",
    "- The previous general definition didn't specify. If we use the bond's yield, then that is known as the Macaulay duration.\n",
    "\n",
    "**Macaulay Duration:** Suppose an instrument makes payments $m$ times per year, with the payment in period $k$ being $c_k$ and there are $n$ periods remaining. The Macaulay duration, $D$, is defined as\n",
    "$$ D = \\frac{\\sum_{k=0}^{n}\\frac{k}{m}\\frac{c_k}{\\left(1 + \\frac{\\lambda}{m} \\right)^k}}{\\text{PV}} $$\n",
    "where $\\lambda$ is the yield to maturity and\n",
    "$$ \\text{PV} = \\sum_{k=0}^{n} \\frac{c_k}{\\left(1 + \\frac{\\lambda}{m} \\right)^k}. $$"
   ]
  },
  {
   "cell_type": "markdown",
   "id": "8871a66b",
   "metadata": {
    "slideshow": {
     "slide_type": "slide"
    }
   },
   "source": [
    "**Example 3.6 (A Short Bond):**\n",
    "- Consider a 7% bond with 3 years to maturity, trading at 8% yield, par value of 100 USD. Compute the duration. Excel is perfect for this!\n",
    "\n",
    "![alt text](./Figures/Fig_L4_Ex36.jpg \"Title\")"
   ]
  },
  {
   "cell_type": "markdown",
   "id": "375c63aa",
   "metadata": {
    "slideshow": {
     "slide_type": "slide"
    }
   },
   "source": [
    "### Explicit Formula\n",
    "- An explicit formula exists for computing the Macaulay duration when the coupon payments are identical.\n",
    "- Note that it requires the *per period* coupon rate and yield.\n",
    "- Included in Excel spreadsheet.\n",
    "\n",
    "### Qualitative Properties of Duration\n",
    "- Durations tend to be shorter than you think.\n",
    "    - PV decreases *geometrically* with time until payment.\n",
    "- Have a finite limit as maturity goes to infinity."
   ]
  },
  {
   "cell_type": "markdown",
   "id": "5da7392a",
   "metadata": {
    "slideshow": {
     "slide_type": "slide"
    }
   },
   "source": [
    "### Duration and Sensitivity\n",
    "**Price Sensitivity**: The derivative of the price, $P$, with respect to the yield, $\\lambda$, of a fixed income security is\n",
    "$$ \\frac{\\text{d}P}{\\text{d}\\lambda} = - D_MP,$$\n",
    "where $D_M$ is the *modified duration*,\n",
    "$$ D_m = \\frac{D}{1 + \\frac{\\lambda}{m}}.$$\n",
    "- This allows us to measure the approximate effect of changes in yield:\n",
    "    - $ \\Delta P \\approx -D_M P \\Delta \\lambda $"
   ]
  },
  {
   "cell_type": "code",
   "execution_count": 3,
   "id": "54b8fb18",
   "metadata": {
    "slideshow": {
     "slide_type": "skip"
    }
   },
   "outputs": [
    {
     "name": "stdout",
     "output_type": "stream",
     "text": [
      "Macaulay Duration at 10% Yield: 9.94\n",
      "Modified Duration at 10% Yield: 9.46\n",
      "Approx. Price at 11% Yield: 90.54\n",
      "True Price at 11% Yield: 91.28\n"
     ]
    }
   ],
   "source": [
    "# Example 3.8 (A 10% Bond)\n",
    "import numpy as np\n",
    "import matplotlib.pyplot as plt\n",
    "plt.rcParams['figure.dpi'] = 150\n",
    "\n",
    "\n",
    "def bond_price(lam, F, C, m, n):\n",
    "    return F / (1 + lam / m) ** n + C / lam * (1 - 1 / (1 + lam / m) ** n)\n",
    "\n",
    "\n",
    "def macaulay_duration(c, y, m, n):\n",
    "    return (1 + y)/(m * y) - (1 + y + n * (c - y))/(m * c * ((1 + y) ** n - 1) + m * y)\n",
    "\n",
    "\n",
    "yields = np.linspace(0.005, 0.2, int((0.2 - 0.005) / 0.005 + 1))\n",
    "face_value = 100\n",
    "maturity = 30\n",
    "coupon_period = 2\n",
    "coupon_rate = 0.1\n",
    "annual_coupon = face_value * coupon_rate\n",
    "num_periods = maturity * coupon_period\n",
    "prices_30_years = bond_price(yields, face_value, annual_coupon, coupon_period, num_periods)\n",
    "\n",
    "par_yield = 0.1\n",
    "duration = macaulay_duration(coupon_rate / coupon_period, par_yield / coupon_period, coupon_period, num_periods)\n",
    "modified_duration = duration / (1 + par_yield / coupon_period)\n",
    "approx_price_at_11 = face_value - modified_duration * face_value * 0.01\n",
    "true_price_at_11 = bond_price(0.11, face_value, annual_coupon, coupon_period, num_periods)\n",
    "\n",
    "print(f\"Macaulay Duration at 10% Yield: {duration:.2f}\")\n",
    "print(f\"Modified Duration at 10% Yield: {modified_duration:.2f}\")\n",
    "print(f\"Approx. Price at 11% Yield: {approx_price_at_11:.2f}\")\n",
    "print(f\"True Price at 11% Yield: {true_price_at_11:.2f}\")\n",
    "\n",
    "line_gradient = - modified_duration * face_value\n",
    "line_intercept = face_value - line_gradient * par_yield\n",
    "\n",
    "final_yields = [0] + list(yields)\n",
    "# plt.figure(1)\n",
    "fig, axes = plt.subplots(1, 2)\n",
    "ax1 = axes[0]\n",
    "ax2 = axes[1]\n",
    "\n",
    "fig.suptitle(\"Price-yield and Slope\")\n",
    "for ax in axes:\n",
    "    ax.plot(final_yields, [face_value + face_value * coupon_rate / 2 * num_periods] + prices_30_years.tolist(), label='30 years')\n",
    "    ax.plot(final_yields, line_gradient * np.array(final_yields) + line_intercept, label='Tangent at 10% Yield')\n",
    "    ax.plot(0.11, approx_price_at_11, 'yx')\n",
    "    ax.plot(0.11, true_price_at_11, 'bo')\n",
    "    ax.set_xlabel(\"YTM\")\n",
    "    \n",
    "ax1.set_ylabel(\"Price\")\n",
    "ax1.set_xlim(0, 0.2)\n",
    "ax1.set_ylim(0, 500)\n",
    "\n",
    "ax2.set_xlim(0.104, 0.114)\n",
    "ax2.set_ylim(87, 95)\n",
    "plt.savefig('Figures/Fig_L4_PriceYieldSlope.png')\n",
    "plt.close()"
   ]
  },
  {
   "cell_type": "markdown",
   "id": "6410d655",
   "metadata": {
    "slideshow": {
     "slide_type": "slide"
    }
   },
   "source": [
    "![alt text](./Figures/Fig_L4_PriceYieldSlope.png \"Title\")"
   ]
  },
  {
   "cell_type": "markdown",
   "id": "9ea46bd6",
   "metadata": {},
   "source": [
    "### Duration of a Portfolio\n"
   ]
  },
  {
   "cell_type": "code",
   "execution_count": null,
   "id": "32108012",
   "metadata": {},
   "outputs": [],
   "source": []
  }
 ],
 "metadata": {
  "celltoolbar": "Slideshow",
  "kernelspec": {
   "display_name": "Python 3",
   "language": "python",
   "name": "python3"
  },
  "language_info": {
   "codemirror_mode": {
    "name": "ipython",
    "version": 3
   },
   "file_extension": ".py",
   "mimetype": "text/x-python",
   "name": "python",
   "nbconvert_exporter": "python",
   "pygments_lexer": "ipython3",
   "version": "3.9.6"
  }
 },
 "nbformat": 4,
 "nbformat_minor": 5
}
