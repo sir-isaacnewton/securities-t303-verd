{
 "cells": [
  {
   "cell_type": "markdown",
   "id": "ac1a971c",
   "metadata": {
    "slideshow": {
     "slide_type": "slide"
    }
   },
   "source": [
    "# Chapter 3 - Fixed-Income Securities\n",
    "\"An interest rate is a price, or rent, for the most popular of all traded commodities: money.\" - Investment Science, David Luenberger\n",
    "## The Market for Future Cash\n",
    "- Large variety of fixed-income instruments. Loosely, instruments whose value is tied to prevailing interest rates.\n",
    "- Read through this for a picture of the fixed-income space.\n",
    "- When you get to *mortgage-backed securities*, you should hear [foreshadowing music](https://www.youtube.com/watch?v=9CS4THydM0g)."
   ]
  },
  {
   "cell_type": "markdown",
   "id": "26ac62d3",
   "metadata": {
    "slideshow": {
     "slide_type": "slide"
    }
   },
   "source": [
    "## Value Formulas\n",
    "- Many fixed-income instruments include an obligation to pay a stream of equal periodic cash flows.\n",
    "\n",
    "### Perpetual Annuities\n",
    "Consider an amount, $A$, paid at the end of each period in perpetuity. Suppose the per-period interest rate is $r$. Then the PV of this *perpetual annuity* is\n",
    "$$ P = \\sum_{k=1}^{\\infty}\\frac{A}{(1 + r)^k} = \\frac{A}{r}. $$\n",
    "- Can you derive this from the geometric series formula from Tutorial 1?"
   ]
  },
  {
   "cell_type": "markdown",
   "id": "eed8c009",
   "metadata": {
    "slideshow": {
     "slide_type": "slide"
    }
   },
   "source": [
    "### Finite-Life Streams\n",
    "Consider an annuity that begins payment one period from the present, paying an amount $A$ each period for a total of $n$ periods. Then, the present value, $P$, the one-period annuity amount, $A$, the one-period interest-rate, $r$, and the number of periods of the annuity, $n$ are related by\n",
    "$$ P = \\frac{A}{r}\\left[1 - \\frac{1}{(1 + r)^n}\\right] $$\n",
    "or, equivalently,\n",
    "$$ A = \\frac{r(1+r)^nP}{(1+r)^n-1}.$$\n",
    "- Can you derive this from the formula for a perpetual annuity?\n",
    "- The second formula converts a single payment, $P$, into a sequence of periodic payments, $A$. This is known as *amortization*."
   ]
  },
  {
   "cell_type": "markdown",
   "id": "464f81e5",
   "metadata": {
    "slideshow": {
     "slide_type": "slide"
    }
   },
   "source": [
    "**Example 3.3 (APR):**\n",
    "\n",
    "| Rate  | Pts  | Term  | Max Amt  | APR   |\n",
    "|-------|------|-------|----------|-------|\n",
    "| 7.625 | 1.00 | 30 yr | $203,150 | 7.883 |\n",
    "\n",
    "- Mortgage broker is willing to lend you $203150, amortized over 30 years, and charge you for it. \n",
    "- They're not willing to make their fees explicit, but they will tell you the Annual Percentage Rate (APR), which can be used to calculate your monthly payment with fees included. They also declare the interest rate on the mortgage.\n",
    "- What are their total fees?\n"
   ]
  },
  {
   "cell_type": "code",
   "execution_count": 4,
   "id": "944c7a68",
   "metadata": {
    "slideshow": {
     "slide_type": "slide"
    }
   },
   "outputs": [
    {
     "name": "stdout",
     "output_type": "stream",
     "text": [
      "Initial Loan: 203150.00 USD\n",
      "Monthly Payment (with fees): 1474.11 USD\n",
      "PV of Monthly Payment: 208267.83 USD\n",
      "Total Fees: 5117.83 USD\n"
     ]
    }
   ],
   "source": [
    "# Example 3.3 (APR)\n",
    "def P(A, r, n):\n",
    "    return A / r * (1 - 1 / (1 + r) ** n)\n",
    "\n",
    "\n",
    "def A(P, r, n):\n",
    "    return r * (1 + r) ** n * P / ((1 + r) ** n - 1)\n",
    "\n",
    "\n",
    "rate = 0.07625\n",
    "pts = 0.01\n",
    "term = 30\n",
    "loan_amount = 203150\n",
    "APR = 0.07883\n",
    "\n",
    "monthly_payment = A(loan_amount, APR / 12, term * 12)\n",
    "P_1 = P(monthly_payment, APR / 12, term * 12)\n",
    "P_2 = P(monthly_payment, rate / 12, term * 12)\n",
    "\n",
    "print(f\"Initial Loan: {P_1:.2f} USD\")\n",
    "print(f\"Monthly Payment (with fees): {monthly_payment:.2f} USD\")\n",
    "print(f\"PV of Monthly Payment: {P_2:.2f} USD\")\n",
    "print(f\"Total Fees: {P_2 - P_1:.2f} USD\")"
   ]
  },
  {
   "cell_type": "markdown",
   "id": "d7d75f65",
   "metadata": {
    "slideshow": {
     "slide_type": "slide"
    }
   },
   "source": [
    "### Annual Worth\n",
    "- Alternative way of summarizing or describing a project: Convert all the cash flows to a fixed $n$-year annuity.\n",
    "- Investment decision corresponds to NPV analysis, similarly relies on an ideal bank.\n"
   ]
  },
  {
   "cell_type": "markdown",
   "id": "dfdd0d9b",
   "metadata": {
    "slideshow": {
     "slide_type": "slide"
    }
   },
   "source": [
    "## Bond Details\n",
    "- Obligation by the bond issuer to pay money to the bond holder according to the rules described when the bond is issued.\n",
    "    - The bond holder is essentially loaning money to the bond issuer, who repays it over time.\n",
    "- A typical bond pays its *face value* or *par value* at the bond *maturity* (the time-horizon of the loan).\n",
    "- Most bonds pay periodic *coupon payments*, which are expressed as a percentage of the par value.\n",
    "    - The last coupon date usually corresponds to the maturity date, so the last payment consists of a coupon payment plus the par value.\n",
    "    - Bonds generally pay coupons semi-annually.\n",
    "- Bond trading can have unique characteristics depending on the market.\n"
   ]
  },
  {
   "cell_type": "markdown",
   "id": "7704e74c",
   "metadata": {
    "slideshow": {
     "slide_type": "slide"
    }
   },
   "source": [
    "### Quality Ratings\n",
    "- More [dramatic music](https://www.youtube.com/watch?v=9CS4THydM0g).\n",
    "- Bonds are rated according to the credit quality of their issuer. Investment grade bonds vs junk bonds.\n",
    "- Regulations can restrict institutions from investing in certain qualities of bonds.\n",
    "- Who rates bonds?\n",
    "    - Moody's and Standard & Poor's.\n",
    "- Who pays for these ratings?\n",
    "    - ...\n",
    "    - [2012 - Jian et al - Does it matter who pays for bond ratings?](https://www.sciencedirect.com/science/article/pii/S0304405X1200061X)\n",
    "\n",
    "    "
   ]
  },
  {
   "cell_type": "markdown",
   "id": "8aeda553",
   "metadata": {
    "slideshow": {
     "slide_type": "slide"
    }
   },
   "source": [
    "## Yield\n",
    "- A bond's *yield* is the interest rate implied by its payment structure: the interest rate at which the present value of all its cash flows is equal to its current price.\n",
    "    - The future cash flows of a bond are *fixed*. This means that if its price changes, its yield changes and vice versa.\n",
    "    - More properly called the *yield to maturity* (YTM), it is the internal rate of return (IRR) of the bond's cash flow stream.\n",
    "    - Yields are always quoted on an annual basis (not *per period*)."
   ]
  },
  {
   "cell_type": "markdown",
   "id": "bdf6031d",
   "metadata": {
    "slideshow": {
     "slide_type": "slide"
    }
   },
   "source": [
    "**Bond Price Formula:**\n",
    "The price of a bond, having exactly $n$ coupon periods remaining to maturity and a yield to maturity of $\\lambda$, satisfies\n",
    "$$ P = \\frac{F}{\\left(1 + \\frac{\\lambda}{m}\\right)^n} + \\frac{C}{\\lambda}\\left(1 -  \\frac{1}{\\left(1 + \\frac{\\lambda}{m}\\right)^n}\\right)$$\n",
    "where $F$ is the face value of the bond, $C$ is the yearly coupon payment, and $m$ is the number of coupon payments per year."
   ]
  },
  {
   "cell_type": "markdown",
   "id": "c5a55be9",
   "metadata": {
    "slideshow": {
     "slide_type": "slide"
    }
   },
   "source": [
    "- Previously, there was some external interest rate that we used to value (or price) a series of future cash flows.\n",
    "- Bonds are different. They are traded, so their price is determined by the market. Their *price* is the known (quoted value), the unknown value is the appropriate interest rate that matches that price. This is the bond yield.\n",
    "- Yields are connected to the prevailing interest rates. Would you buy a bond if the yield it implied was less than a savings account?"
   ]
  },
  {
   "cell_type": "code",
   "execution_count": 1,
   "id": "8450a4e4",
   "metadata": {
    "slideshow": {
     "slide_type": "skip"
    }
   },
   "outputs": [],
   "source": [
    "import scipy.optimize as optimize\n",
    "import numpy as np\n",
    "import matplotlib.pyplot as plt\n",
    "plt.rcParams['figure.dpi'] = 150\n",
    "\n",
    "def bond_ytm(P, F, C, m, n, initial_guess=0.05):\n",
    "    def yield_function(lam):\n",
    "        F / (1 + lam / m) ** n + C / lam * (1 - 1 / (1 + lam / m) ** n) - P\n",
    "    return optimize.newton(yield_function, initial_guess)\n",
    "\n",
    "\n",
    "def bond_price(lam, F, C, m, n):\n",
    "    return F / (1 + lam / m) ** n + C / lam * (1 - 1 / (1 + lam / m) ** n)\n",
    "\n",
    "\n",
    "yields = np.linspace(0.005, 0.2, 100)\n",
    "F = 100\n",
    "m = 1\n",
    "n = 30\n",
    "\n",
    "prices_15 = bond_price(yields, F, F * 0.15, m, n)\n",
    "prices_10 = bond_price(yields, F, F * 0.1, m, n)\n",
    "prices_5 = bond_price(yields, F, F * 0.05, m, n)\n",
    "prices_0 = bond_price(yields, F, F * 0, m, n)\n",
    "\n",
    "prices_30_years = bond_price(yields, F, F * 0.1, m, 30)\n",
    "prices_10_years = bond_price(yields, F, F * 0.1, m, 10)\n",
    "prices_3_years = bond_price(yields, F, F * 0.1, m, 3)\n",
    "\n",
    "final_yields = [0] + yields.tolist()\n",
    "plt.figure(1)\n",
    "plt.plot(final_yields, [F + F * 0.15 * n] + prices_15.tolist(), label='15%')\n",
    "plt.plot(final_yields, [F + F * 0.10 * n] + prices_10.tolist(), label='10%')\n",
    "plt.plot(final_yields, [F + F * 0.05 * n] + prices_5.tolist(), label='5%')\n",
    "plt.plot(final_yields, [F + F * 0 * n] + prices_0.tolist(), label='0%')\n",
    "plt.xlim(0, 0.2)\n",
    "plt.title(\"Price-yield and Coupon Rate\")\n",
    "plt.xlabel(\"YTM\")\n",
    "plt.ylabel(\"Price\")\n",
    "plt.legend()\n",
    "plt.savefig('Figures/Fig_L3_PriceYieldCouponRate.png')\n",
    "plt.close()\n",
    "\n",
    "\n",
    "plt.figure(2)\n",
    "plt.plot(final_yields, [F + F * 0.1 * 30] + prices_30_years.tolist(), label='30 years')\n",
    "plt.plot(final_yields, [F + F * 0.1 * 10] + prices_10_years.tolist(), label='10 years')\n",
    "plt.plot(final_yields, [F + F * 0.1 * 3] + prices_3_years.tolist(), label='3 years')\n",
    "plt.xlim(0, 0.2)\n",
    "plt.title(\"Price-yield and Maturity\")\n",
    "plt.xlabel(\"YTM\")\n",
    "plt.ylabel(\"Price\")\n",
    "plt.legend()\n",
    "plt.savefig('Figures/Fig_L3_PriceYieldMaturity.png')\n",
    "plt.close()\n",
    "\n"
   ]
  },
  {
   "cell_type": "markdown",
   "id": "50818287",
   "metadata": {
    "slideshow": {
     "slide_type": "slide"
    }
   },
   "source": [
    "![alt text](./Figures/Fig_L3_PriceYieldCouponRate.png \"Title\")"
   ]
  },
  {
   "cell_type": "markdown",
   "id": "b98c5211",
   "metadata": {
    "slideshow": {
     "slide_type": "slide"
    }
   },
   "source": [
    "![alt text](./Figures/Fig_L3_PriceYieldMaturity.png \"Title\")"
   ]
  },
  {
   "cell_type": "markdown",
   "id": "4755dade",
   "metadata": {
    "slideshow": {
     "slide_type": "slide"
    }
   },
   "source": [
    "### Other Yield Measures\n",
    "- Different ways of gaining insight into a bond's properties.\n",
    "- Include the simple *current yield* (CY) and the slightly more complicated *yield to call* (YTC)."
   ]
  }
 ],
 "metadata": {
  "celltoolbar": "Slideshow",
  "kernelspec": {
   "display_name": "Python 3",
   "language": "python",
   "name": "python3"
  },
  "language_info": {
   "codemirror_mode": {
    "name": "ipython",
    "version": 3
   },
   "file_extension": ".py",
   "mimetype": "text/x-python",
   "name": "python",
   "nbconvert_exporter": "python",
   "pygments_lexer": "ipython3",
   "version": "3.9.6"
  }
 },
 "nbformat": 4,
 "nbformat_minor": 5
}
