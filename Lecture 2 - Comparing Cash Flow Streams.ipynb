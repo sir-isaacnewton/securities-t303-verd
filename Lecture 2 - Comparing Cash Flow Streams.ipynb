{
 "cells": [
  {
   "cell_type": "markdown",
   "id": "a8d1a5f4",
   "metadata": {
    "slideshow": {
     "slide_type": "slide"
    }
   },
   "source": [
    "# Chapter 2 - The Basic Theory of Interest\n",
    "## Internal Rate of Return\n",
    "- The internal rate of return is another way of summarizing or describing a series of cash flows.\n",
    "- It is the per period interest rate that would make the PV of the cash flow stream zero.\n",
    "\n",
    "**Internal Rate of Return:**\n",
    "Let $(x_0, x_1, ..., x_n)$ be a cash flow stream. Then the internal rate of return, $r$, of this stream satisfies\n",
    "$$ 0 = x_0 + \\frac{x_1}{1 + r} + \\frac{x_2}{\\left(1 + r\\right)^2} + ... +  \\frac{x_n}{\\left(1 + r\\right)^n}.$$\n",
    "Equivalently, is the $r$ such that the discount factor, $c = \\frac{1}{1 + r}$, satisfies\n",
    "$$ 0 = x_0 + x_1 c + x_2 c^2 + ... + x_nc^n.$$\n"
   ]
  },
  {
   "cell_type": "markdown",
   "id": "2da0678a",
   "metadata": {
    "slideshow": {
     "slide_type": "slide"
    }
   },
   "source": [
    "![alt text](./Figures/Fig_L2_IRR.png \"Title\")"
   ]
  },
  {
   "cell_type": "code",
   "execution_count": 3,
   "id": "264fd7e9",
   "metadata": {
    "slideshow": {
     "slide_type": "fragment"
    }
   },
   "outputs": [
    {
     "name": "stdout",
     "output_type": "stream",
     "text": [
      "IRR: 0.23\n"
     ]
    }
   ],
   "source": [
    "import numpy as np\n",
    "from numpy.polynomial import Polynomial\n",
    "irr_poly = Polynomial([-2, 1, 1, 1])\n",
    "real_roots = np.real(irr_poly.roots())\n",
    "discount_factor = np.max(real_roots)\n",
    "print(f\"IRR: {1/discount_factor - 1:.2f}\")"
   ]
  },
  {
   "cell_type": "markdown",
   "id": "5dacadca",
   "metadata": {
    "slideshow": {
     "slide_type": "slide"
    }
   },
   "source": [
    "## Evaluation Criteria\n",
    "### Net Present Value\n",
    "- To evaluate alternatives using NPV, we simply rank them by their PV.\n",
    "- This allows us to compare different cash flow streams, with inflows and outflows at different times, as long as we use the appropriate interest rate.\n",
    "- Widely regarded as the single best measure of an investment's measure.\n",
    "- Heck, you can even add two PVs together to evaluate a combined investment.\n",
    "\n",
    "### Internal Rate of Return\n",
    "- Alternatively, we can rank alternatives according to their IRR.\n",
    "- Usually, an investment is not worth considering unless its IRR is greater than the prevailing, accessible interest rate. Can you see why?\n"
   ]
  },
  {
   "cell_type": "markdown",
   "id": "fd3495f3",
   "metadata": {
    "slideshow": {
     "slide_type": "slide"
    }
   },
   "source": [
    "\n",
    "### Discussion of the Criteria\n",
    "- Theorists tend to use NPV.\n",
    "- IRR can be valuable when investment decisions can be repeated, i.e., the returns can be compounded.\n",
    "- However, NPV could still be used if you consider *all* the future cash flows.\n",
    "- NPV can be very tricky in practice: What interest rate goes where?\n",
    "- NPV doesn't tell you about *return*: you may have to invest a lot to get a positive NPV.\n"
   ]
  },
  {
   "cell_type": "markdown",
   "id": "30da94ef",
   "metadata": {
    "slideshow": {
     "slide_type": "slide"
    }
   },
   "source": [
    "## Applications and Extensions\n",
    "### Cycle Problems\n",
    "- What about NPV comparisons for cash flows with different lengths?\n",
    "    - We can line up them up by repeating them an appropriate number of times OR we can repeat them indefinitely."
   ]
  },
  {
   "cell_type": "markdown",
   "id": "58e4e918",
   "metadata": {
    "slideshow": {
     "slide_type": "slide"
    }
   },
   "source": [
    "**Example 2.7: (Automobile Purchase)**\n",
    "- The prevailing interest rate is 10% annually.\n",
    "- Car A:\n",
    "    - Initial cost of 20,000 USD.\n",
    "    - Annual cost of 1000 USD (payable at the beginning of each year after the first year).\n",
    "    - Lasts 4 years.\n",
    "- Car B:\n",
    "    - Initial cost of 30,000 USD.\n",
    "    - Annual cost of 2000 USD (payable at the beginning of each year after the first year).\n",
    "    - Last 6 years.\n",
    "- To compare them, we repeat the Car A lifecycle three times and the Car B lifecycle twice."
   ]
  },
  {
   "cell_type": "markdown",
   "id": "3018dbd5",
   "metadata": {
    "slideshow": {
     "slide_type": "slide"
    }
   },
   "source": [
    "![alt text](./Figures/Fig_L2_AutomobilePurchase.png \"Title\")"
   ]
  },
  {
   "cell_type": "markdown",
   "id": "56d41047",
   "metadata": {
    "slideshow": {
     "slide_type": "slide"
    }
   },
   "source": [
    "**Example 2.8: (Machine Replacement)**\n",
    "- The prevailing interest rate is 10% annually.\n",
    "- Specialized Machine:\n",
    "    - Initial cost of 10 000 USD.\n",
    "    - Operating cost of 2000 USD during the first year, with payment at the end of the year.\n",
    "    - Operating costs increase by 1000 USD each year after the first.\n",
    "- How often should the machine be replaced?\n",
    "    - We use the same \"trick\" from the previous example: we identify when the cash flow cycles repeat.\n",
    "    - With an added twist: we pretend these cycles go on forever..."
   ]
  },
  {
   "cell_type": "markdown",
   "id": "3cf11bf1",
   "metadata": {
    "slideshow": {
     "slide_type": "slide"
    }
   },
   "source": [
    "![alt text](./Figures/Fig_L2_MachineReplacement.png \"Title\")"
   ]
  },
  {
   "cell_type": "code",
   "execution_count": 2,
   "id": "3c00d1de",
   "metadata": {
    "slideshow": {
     "slide_type": "slide"
    }
   },
   "outputs": [
    {
     "name": "stdout",
     "output_type": "stream",
     "text": [
      "Cycle Length \t Total PV\n",
      "       1 \t  -130000\n",
      "       2 \t   -82381\n",
      "       3 \t   -69577\n",
      "       4 \t   -65359\n",
      "       5 \t   -64481\n",
      "       6 \t   -65196\n"
     ]
    }
   ],
   "source": [
    "# Example: Machine Replacement.\n",
    "def pv_cycle(k):\n",
    "    current_sum = 0\n",
    "    for i in range(0, k):\n",
    "        current_sum += (-2000 - 1000 * i) / (1.1 ** (i + 1))\n",
    "    return -10000 + current_sum\n",
    "\n",
    "\n",
    "def pv_total(k):\n",
    "    return pv_cycle(k) / (1 - 1 / (1.1 ** k))\n",
    "\n",
    "\n",
    "print(f\"Cycle Length \\t Total PV\")\n",
    "for n in range(1, 7):\n",
    "    print(f\"{n:8} \\t {pv_total(n):8.0f}\")"
   ]
  },
  {
   "cell_type": "markdown",
   "id": "5f243e9e",
   "metadata": {
    "slideshow": {
     "slide_type": "slide"
    }
   },
   "source": [
    "### Inflation\n",
    "- *Nominal* value is measured in terms of money, whereas *real* value is measured against goods and services.\n",
    "- The *real* value of something is the nominal value (the \"not-really\" value) adjusted for inflation:\n",
    "    - The nominal FV of 100 USD deposited at 10% for 1 year is 110 USD. But that's not its real value: one year from now, 110 USD will be able to buy less than what 110 USD can buy today. If we expect a 2% rise in prices, then we are only *really* achieving an 8% interest rate (approximately).\n",
    "- Nominal dollars grow at the nominal interest rate.\n",
    "- Real dollars grow at the nominal interest rate, $r$, but then deflate (discount) at the inflation rate, $f$, such that the real rate of interest, $r_0$ is:\n",
    "$$ 1 + r_0 = \\frac{1 + r}{1 + f}$$\n",
    "   \n"
   ]
  },
  {
   "cell_type": "markdown",
   "id": "e11b587e",
   "metadata": {
    "slideshow": {
     "slide_type": "slide"
    }
   },
   "source": [
    "## Summary\n",
    "- The time value of money is concretely captured by an interest rate.\n",
    "- Compounded at any frequency, hence \"nominal\" vs \"effective\".\n",
    "- Future Value and Present Value and the Ideal Bank.\n",
    "- Net Present Value and Internal Rate of Return.\n",
    "- Complications of inflows and outflows, cycle lengths, taxes and inflation."
   ]
  }
 ],
 "metadata": {
  "celltoolbar": "Slideshow",
  "kernelspec": {
   "display_name": "Python 3",
   "language": "python",
   "name": "python3"
  },
  "language_info": {
   "codemirror_mode": {
    "name": "ipython",
    "version": 3
   },
   "file_extension": ".py",
   "mimetype": "text/x-python",
   "name": "python",
   "nbconvert_exporter": "python",
   "pygments_lexer": "ipython3",
   "version": "3.9.6"
  }
 },
 "nbformat": 4,
 "nbformat_minor": 5
}
